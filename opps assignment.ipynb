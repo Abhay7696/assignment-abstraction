{
 "cells": [
  {
   "cell_type": "code",
   "execution_count": null,
   "id": "f576df6d-1d5b-4514-a5f1-f0611e85aa2b",
   "metadata": {},
   "outputs": [],
   "source": [
    "Q1. What is Abstraction in OOps? Explain with an example."
   ]
  },
  {
   "cell_type": "code",
   "execution_count": null,
   "id": "082f3e72-3f85-415a-9207-0e82b3392112",
   "metadata": {},
   "outputs": [],
   "source": [
    "What is Abstraction in Python? Abstraction in python is defined as a process of handling complexity by hiding unnecessary information from the user.\n",
    "This is one of the core concepts of object-oriented programming (OOP) languages.\n",
    "Let's take another example - When we use the TV remote to increase the volume.\n",
    "We don't know how pressing a key increases the volume of the TV. We only know to press the \"+\" button to increase the volume. \n",
    "That is exactly the abstraction that works in the object-oriented concept.\n",
    "\n"
   ]
  },
  {
   "cell_type": "code",
   "execution_count": null,
   "id": "ba4ea1f3-7861-4f9c-ab33-609229630fa0",
   "metadata": {},
   "outputs": [],
   "source": [
    "Q2. Differentiate between Abstraction and Encapsulation."
   ]
  },
  {
   "cell_type": "code",
   "execution_count": null,
   "id": "0e7153c1-0e90-4844-81f0-bc971a7a071d",
   "metadata": {},
   "outputs": [],
   "source": [
    "\n",
    "\n",
    "Encapsulation hides variables or some implementation that may be changed so often in a class to prevent outsiders access it directly. \n",
    "They must access it via getter and setter methods.\n",
    "\n",
    "Abstraction is used to hide something too, but in a higher degree (class, interface). Clients who use an abstract class (or interface) do not \n",
    "care about what it was, they just need to know what it can do.\n",
    "\n",
    "\n",
    "\n"
   ]
  },
  {
   "cell_type": "code",
   "execution_count": null,
   "id": "4a901428-624f-432f-a4fe-29486fd83a67",
   "metadata": {},
   "outputs": [],
   "source": [
    "Q3. What is abc module in python? Why is it used?"
   ]
  },
  {
   "cell_type": "code",
   "execution_count": null,
   "id": "ac1f8678-3a13-4d05-8f15-684789bcd66d",
   "metadata": {},
   "outputs": [],
   "source": [
    "The 'abc' module in the Python library provides the infrastructure for defining custom abstract base classes.\n",
    "Abstract class cannot be instantiated in python.\n",
    "An Abstract method can be call by its subclasses.\n",
    "In Python, abstract base classes provide a blueprint for concrete classes. \n",
    "They don't contain implementation.\n",
    "Instead, they provide an interface and make sure that derived concrete classes are properly implemented. Abstract base classes cannot be instantiated."
   ]
  },
  {
   "cell_type": "code",
   "execution_count": null,
   "id": "423a8d5e-1034-4683-bb6e-a2f1b9072b24",
   "metadata": {},
   "outputs": [],
   "source": [
    "Q4. How can we achieve data abstraction?"
   ]
  },
  {
   "cell_type": "code",
   "execution_count": null,
   "id": "5426277a-8883-4bae-aa7f-5f2686eb5834",
   "metadata": {},
   "outputs": [],
   "source": [
    "Data Abstraction in Python can be achieved through creating abstract classes and inheriting them later. \n",
    "Before discussing what abstract classes are, let us have a brief introduction of inheritance"
   ]
  },
  {
   "cell_type": "code",
   "execution_count": null,
   "id": "0c0bf5c2-b025-4a2b-967b-95291c4e9e9a",
   "metadata": {},
   "outputs": [],
   "source": [
    "An abstract class can be considered as a blueprint for other classes.\n",
    "It allows you to create a set of methods that must be created within any child classes built from the abstract class. \n",
    "A class which contains one or more abstract methods is called an abstract class. \n",
    "An abstract method is a method that has a declaration but does not have an implementation. \n",
    "While we are designing large functional units we use an abstract class.\n",
    "When we want to provide a common interface for different implementations of a component, \n",
    "we use an abstract class. "
   ]
  },
  {
   "cell_type": "code",
   "execution_count": null,
   "id": "7e65db67-34d4-4ced-a296-4cfc43e299f3",
   "metadata": {},
   "outputs": [],
   "source": [
    "An abstract class can be considered as a blueprint for other classes. It allows you to create a set of methods that must be created within any child classes built from the abstract class. A class which contains one or more abstract methods is called an abstract class. An abstract method is a method that has a declaration but does not have an implementation. While we are designing large functional units we use an abstract class. When we want to provide a common interface for different implementations of a component, we use an a"
   ]
  },
  {
   "cell_type": "code",
   "execution_count": null,
   "id": "5dbc6296-77b4-45f1-94bf-f1e46b43b990",
   "metadata": {},
   "outputs": [],
   "source": []
  },
  {
   "cell_type": "code",
   "execution_count": null,
   "id": "fd3a8297-714f-4e3e-8c4d-16d41ea8d592",
   "metadata": {},
   "outputs": [],
   "source": []
  },
  {
   "cell_type": "code",
   "execution_count": null,
   "id": "be536584-20ae-45af-88ca-f5a130931d76",
   "metadata": {},
   "outputs": [],
   "source": []
  },
  {
   "cell_type": "code",
   "execution_count": null,
   "id": "a554f0f7-2235-4984-9def-a17d70746271",
   "metadata": {},
   "outputs": [],
   "source": []
  }
 ],
 "metadata": {
  "kernelspec": {
   "display_name": "Python 3 (ipykernel)",
   "language": "python",
   "name": "python3"
  },
  "language_info": {
   "codemirror_mode": {
    "name": "ipython",
    "version": 3
   },
   "file_extension": ".py",
   "mimetype": "text/x-python",
   "name": "python",
   "nbconvert_exporter": "python",
   "pygments_lexer": "ipython3",
   "version": "3.10.8"
  }
 },
 "nbformat": 4,
 "nbformat_minor": 5
}
